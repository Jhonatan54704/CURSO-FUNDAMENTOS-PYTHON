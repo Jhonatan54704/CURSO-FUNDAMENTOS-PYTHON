{
  "nbformat": 4,
  "nbformat_minor": 0,
  "metadata": {
    "colab": {
      "provenance": []
    },
    "kernelspec": {
      "name": "python3",
      "display_name": "Python 3"
    },
    "language_info": {
      "name": "python"
    }
  },
  "cells": [
    {
      "cell_type": "code",
      "execution_count": 1,
      "metadata": {
        "colab": {
          "base_uri": "https://localhost:8080/"
        },
        "id": "__Ovdkw-kCfv",
        "outputId": "3f2dad05-78bc-4a52-feb1-4d8ed625d4be"
      },
      "outputs": [
        {
          "output_type": "stream",
          "name": "stdout",
          "text": [
            "Ingresa la cantidad de manzanas recolectadas por el cultivo: 40\n",
            "Ingresa la cantidad de manzanas producidas por el cultivo: 50\n",
            "Índice de cosecha cultivo: 80.00%\n"
          ]
        }
      ],
      "source": [
        "#SOLUCION PUNTO 1\n",
        "#Formula para calcular indice cosecha de manzanas\n",
        "\n",
        "def indice_cosecha_cultivo(Manzanas_recolectadas, Manzanas_producidas):\n",
        "    if Manzanas_producidas == 0:\n",
        "        return 0  # Evitar división por cero\n",
        "    return (Manzanas_recolectadas / Manzanas_producidas) * 100\n",
        "\n",
        "# Ejercicio indice de cosecha\n",
        "Manzanas_recolectadas = float(input(\"Ingresa la cantidad de manzanas recolectadas por el cultivo: \"))\n",
        "Manzanas_producidas = float(input(\"Ingresa la cantidad de manzanas producidas por el cultivo: \"))\n",
        "indice = indice_cosecha_cultivo(Manzanas_recolectadas, Manzanas_producidas)\n",
        "print(f\"Índice de cosecha cultivo: {indice:.2f}%\")"
      ]
    },
    {
      "cell_type": "code",
      "source": [
        "#Solucion punto 2\n",
        "#A continuacion indicaremos la bonita letra de Python:)\n",
        "print(\"PPPP \\nP   P\\nP   P\\nPPPP \\nP    \\nP    \\nP    \")"
      ],
      "metadata": {
        "colab": {
          "base_uri": "https://localhost:8080/"
        },
        "id": "nctWhcipkU0_",
        "outputId": "82077b67-023a-47c0-f51e-4b3ada497b65"
      },
      "execution_count": 2,
      "outputs": [
        {
          "output_type": "stream",
          "name": "stdout",
          "text": [
            "PPPP \n",
            "P   P\n",
            "P   P\n",
            "PPPP \n",
            "P    \n",
            "P    \n",
            "P    \n"
          ]
        }
      ]
    },
    {
      "cell_type": "code",
      "source": [
        "#Solucion punto 3\n",
        "\n",
        "#Calificacion que necesitas saber el estudiante Jhonatan\n",
        "# Definir función para calcular la calificación final\n",
        "def calcular_calificacion_final(calificaciones_primer_trimestre, examen_final, actividad_final):\n",
        "    promedio_parciales = sum(calificaciones_primer_trimestre) / len(calificaciones_primer_trimestre)\n",
        "    return (promedio_parciales * 0.55) + (examen_final * 0.30) + (actividad_final * 0.15)\n",
        "\n",
        "# Lista para almacenar calificaciones del primer trimestre\n",
        "calificaciones_primer_trimestre = []\n",
        "for i in range(3):\n",
        "    calificacion = float(input(f\"Ingrese la calificación primer trimestre {i + 1}: \"))\n",
        "    calificaciones_primer_trimestre.append(calificacion)\n",
        "\n",
        "# Pedir calificación del examen final\n",
        "examen_final = float(input(\"Ingrese la calificación del examen final: \"))\n",
        "\n",
        "# Pedir calificación de la actividad final\n",
        "actividad_final = float(input(\"Ingrese la calificación de la actividad final: \"))\n",
        "\n",
        "# Calcular la calificación final\n",
        "calificacion = calcular_calificacion_final(calificaciones_primer_trimestre, examen_final, actividad_final)\n",
        "\n",
        "# Mostrar el resultado\n",
        "print(f\"Calificación final: {calificacion:.2f}\")"
      ],
      "metadata": {
        "colab": {
          "base_uri": "https://localhost:8080/"
        },
        "id": "bP8uEQczkcCD",
        "outputId": "6a17f008-723f-4430-f5da-3cae04a4a428"
      },
      "execution_count": 3,
      "outputs": [
        {
          "output_type": "stream",
          "name": "stdout",
          "text": [
            "Ingrese la calificación primer trimestre 1: 50\n",
            "Ingrese la calificación primer trimestre 2: 50\n",
            "Ingrese la calificación primer trimestre 3: 50\n",
            "Ingrese la calificación del examen final: 50\n",
            "Ingrese la calificación de la actividad final: 50\n",
            "Calificación final: 50.00\n"
          ]
        }
      ]
    },
    {
      "cell_type": "code",
      "source": [
        "#Solucion punto 4\n",
        "#Problema de la frase y el numero de palabras\n",
        "frase = input(\"Hala Madrid: \")\n",
        "\n",
        "#Aqui se cuenta el numero de palabras vaya, len cuenta los elementos de una lista y split cuenta los espacios en blanco generando la lista\n",
        "cantidad_palabras = len(frase.split())\n",
        "\n",
        "#Se usa el print para el resultado, la f es un formateo de cadena para que sea mas legible\n",
        "print(f\"Cantidad de palabras en la frase: {cantidad_palabras}\")"
      ],
      "metadata": {
        "colab": {
          "base_uri": "https://localhost:8080/"
        },
        "id": "d9lszYuakngC",
        "outputId": "ba9682b5-6bf3-4567-df16-5b9c205d1fe3"
      },
      "execution_count": 4,
      "outputs": [
        {
          "output_type": "stream",
          "name": "stdout",
          "text": [
            "Hala Madrid: hola\n",
            "Cantidad de palabras en la frase: 1\n"
          ]
        }
      ]
    },
    {
      "cell_type": "code",
      "source": [
        "#Solucion punto 5\n",
        "\n",
        "#Problema de la frase invertida y en mayus, se pide por un input la frase al usuario\n",
        "frase = input(\"Ingrese tu frase favorita: \")\n",
        "\n",
        "#Se transforma la frase ingresada por medio de input, la funcion upper convierte todo en mayuscula, [::-1] es una técnica de slicing que invierte la cadena. Al usar [::-1], se crea una nueva cadena que es la original pero en orden inverso.\n",
        "\n",
        "frase_transformada = frase.upper()[::-1]\n",
        "\n",
        "#Mostrar el resultado\n",
        "print(f\"Frase en mayúsculas e invertida: {frase_transformada}\")"
      ],
      "metadata": {
        "colab": {
          "base_uri": "https://localhost:8080/"
        },
        "id": "OL9y8Q4TkvEV",
        "outputId": "20463264-643b-4944-8fac-6e4b45b9824b"
      },
      "execution_count": 5,
      "outputs": [
        {
          "output_type": "stream",
          "name": "stdout",
          "text": [
            "Ingrese tu frase favorita: hola\n",
            "Frase en mayúsculas e invertida: ALOH\n"
          ]
        }
      ]
    }
  ]
}