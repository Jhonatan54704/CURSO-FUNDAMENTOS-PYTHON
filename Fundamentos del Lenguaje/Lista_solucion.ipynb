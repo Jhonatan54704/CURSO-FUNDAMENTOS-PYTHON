{
 "cells": [
  {
   "cell_type": "code",
   "execution_count": 21,
   "metadata": {},
   "outputs": [
    {
     "name": "stdout",
     "output_type": "stream",
     "text": [
      "ma-pa\n",
      "me-pe\n",
      "mi-pi\n",
      "mo-po\n",
      "mu-pu\n"
     ]
    }
   ],
   "source": [
    "m = [\"ma\", \"me\", \"mi\", \"mo\", \"mu\"]\n",
    "p = [\"pa\", \"pe\", \"pi\", \"po\", \"pu\"]\n",
    "for i in range(len(n)):\n",
    "    print(m[i] + \"-\" + p[i])\n",
    "\n"
   ]
  }
 ],
 "metadata": {
  "kernelspec": {
   "display_name": "Python 3",
   "language": "python",
   "name": "python3"
  },
  "language_info": {
   "codemirror_mode": {
    "name": "ipython",
    "version": 3
   },
   "file_extension": ".py",
   "mimetype": "text/x-python",
   "name": "python",
   "nbconvert_exporter": "python",
   "pygments_lexer": "ipython3",
   "version": "3.12.4"
  }
 },
 "nbformat": 4,
 "nbformat_minor": 2
}
