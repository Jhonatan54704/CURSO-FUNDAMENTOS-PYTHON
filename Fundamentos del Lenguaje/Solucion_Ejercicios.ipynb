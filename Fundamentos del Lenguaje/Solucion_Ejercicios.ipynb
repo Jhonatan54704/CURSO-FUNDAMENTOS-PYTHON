{
 "cells": [
  {
   "cell_type": "code",
   "execution_count": 4,
   "metadata": {},
   "outputs": [
    {
     "name": "stdout",
     "output_type": "stream",
     "text": [
      "Temperatura en rango seguro. El motor sigue encendido.\n",
      "Estado del motor: Encendido\n"
     ]
    }
   ],
   "source": [
    "#Solucion punto 1\n",
    "motor_encendido = True  # El motor comienza prendido \n",
    "\n",
    "temperatura = float(input(\"Ingrese la temperatura del motor: \"))\n",
    "\n",
    "#Calculamos si la temperatura del motor es menor o mayor a 80 \n",
    "if temperatura > 80:\n",
    "    motor_encendido = False\n",
    "    print(\"Temperatura alta detectada. Apagando motor...\")\n",
    "else:\n",
    "    print(\"Temperatura en rango seguro. El motor sigue encendido.\")\n",
    "\n",
    "print(f\"Estado del motor: {'Encendido' if motor_encendido else 'Apagado'}\")"
   ]
  },
  {
   "cell_type": "code",
   "execution_count": null,
   "metadata": {},
   "outputs": [
    {
     "name": "stdout",
     "output_type": "stream",
     "text": [
      "Descuento aplicado: $1.70\n",
      "Valor final a pagar: $32.30\n"
     ]
    }
   ],
   "source": [
    "#Solucion punto 2\n",
    "estrato = int(input(\"Ingrese su estrato (1 o 2): \"))\n",
    "edad = int(input(\"Ingrese su edad: \"))\n",
    "valor_matricula = float(input(\"Ingrese el valor de la matrícula: \"))\n",
    "\n",
    "descuento = 0  # Inicializamos el descuento en 0\n",
    "\n",
    "if estrato == 1:\n",
    "    if edad < 18:\n",
    "        descuento = 0.20  # 20%\n",
    "    else:\n",
    "        descuento = 0.15  # 15%\n",
    "elif estrato == 2:\n",
    "    \n",
    "    if edad < 18:\n",
    "        descuento = 0.10  # 10%\n",
    "    else:\n",
    "        descuento = 0.05  # 5%\n",
    "else:\n",
    "    print(\"No aplica descuento para otros estratos.\")\n",
    "\n",
    "descuento_aplicado = valor_matricula * descuento\n",
    "valor_final = valor_matricula - descuento_aplicado\n",
    "\n",
    "print(f\"Descuento aplicado: ${descuento_aplicado:.2f}\")\n",
    "print(f\"Valor final a pagar: ${valor_final:.2f}\")"
   ]
  },
  {
   "cell_type": "code",
   "execution_count": 2,
   "metadata": {},
   "outputs": [
    {
     "name": "stdout",
     "output_type": "stream",
     "text": [
      "La pieza es defectuosa y debe ser rechazada.\n"
     ]
    }
   ],
   "source": [
    "#Solucion punto 3\n",
    "piezas = int(input(\"Ingrese la cantidad de piezas: \"))\n",
    "estandar_calidad = float(input(\"Ingrese el estándar de calidad de la pieza: \"))\n",
    "\n",
    "if estandar_calidad >= 7.0:\n",
    "    print(\"La pieza está aprobada.\")\n",
    "else:\n",
    "    print(\"La pieza es defectuosa y debe ser rechazada.\")"
   ]
  }
 ],
 "metadata": {
  "kernelspec": {
   "display_name": "Python 3",
   "language": "python",
   "name": "python3"
  },
  "language_info": {
   "codemirror_mode": {
    "name": "ipython",
    "version": 3
   },
   "file_extension": ".py",
   "mimetype": "text/x-python",
   "name": "python",
   "nbconvert_exporter": "python",
   "pygments_lexer": "ipython3",
   "version": "3.12.4"
  }
 },
 "nbformat": 4,
 "nbformat_minor": 2
}
